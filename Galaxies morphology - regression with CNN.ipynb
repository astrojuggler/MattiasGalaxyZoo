{
 "cells": [
  {
   "cell_type": "code",
   "execution_count": 15,
   "metadata": {},
   "outputs": [],
   "source": [
    "# Goal of the project is to apply ML to real data\n",
    "\n",
    "# Step 1: just plot the data\n",
    "# Step 2: which task? Supervised Learning!\n",
    "# Step 3: train and test a few methods\n",
    "\n",
    "# Comments on different algorithms, expenses, difficulties, findings?"
   ]
  },
  {
   "cell_type": "code",
   "execution_count": 19,
   "metadata": {},
   "outputs": [],
   "source": [
    "# Here I want to use a CNN for reproducing the 'probability' distribution of all classes and sub-classes"
   ]
  },
  {
   "cell_type": "code",
   "execution_count": 1,
   "metadata": {},
   "outputs": [],
   "source": [
    "# Loading the data\n",
    "\n",
    "# What are the GalaxyIDs? I can read them from the first column of the training_solutions file\n",
    "\n",
    "import skimage\n",
    "from skimage import data\n",
    "from skimage import io\n",
    "\n",
    "import numpy as np\n",
    "import os\n",
    "import csv\n",
    "\n",
    "# I read the file and create the list of IDs as well as the list of labels\n",
    "with open(\"training_solutions_rev1.csv\", 'r') as f: \n",
    "    reader = csv.reader(f, delimiter=\",\")\n",
    "    train_ids = []\n",
    "    y = []\n",
    "    for k, line in enumerate(reader):\n",
    "        if k == 0: continue # skip header\n",
    "        train_ids.append(int(line[0]))\n",
    "        y.append(line[1:])\n",
    "        \n",
    "train_ids = np.array(train_ids) # I save the IDs in this numpy array\n",
    "my_train_ids = train_ids[0:800] # I want to work with less training data for computational cost reasons\n",
    "my_valid_ids = train_ids[800:900] # galaxies IDs for my validation test (to chooose between my models)\n",
    "my_test_ids = train_ids[900:1000] # These I choose to be the galaxies IDs for my final-test\n",
    "\n",
    "# same split for the labels\n",
    "y = np.asarray(y, dtype=float)  #change type of elements from string to float!\n",
    "y_train = y[0:800]\n",
    "y_valid = y[800:900]\n",
    "y_test = y[900:1000]\n",
    "\n",
    "# same split for the data points\n",
    "x_train = []\n",
    "x_valid = []\n",
    "x_test = []\n",
    "for ID in my_train_ids:\n",
    "    filename = 'images_training_rev1/' + str(ID) + '.jpg'\n",
    "    x_train.append(io.imread(filename))\n",
    "for ID in my_valid_ids:\n",
    "    filename = 'images_training_rev1/' + str(ID) + '.jpg'\n",
    "    x_valid.append(io.imread(filename))\n",
    "for ID in my_test_ids:\n",
    "    filename = 'images_training_rev1/' + str(ID) + '.jpg'\n",
    "    x_test.append(io.imread(filename))\n",
    "x_train = np.array(x_train)\n",
    "x_valid = np.array(x_valid)\n",
    "x_test = np.array(x_test)"
   ]
  },
  {
   "cell_type": "code",
   "execution_count": 2,
   "metadata": {},
   "outputs": [
    {
     "name": "stdout",
     "output_type": "stream",
     "text": [
      "The number of values characterizing each image is:\n",
      "539328\n",
      "The shape of each data point is:\n",
      "(424, 424, 3)\n",
      "The shapes of the training points and of the labels are:\n",
      "(800, 424, 424, 3) (800, 37)\n"
     ]
    }
   ],
   "source": [
    "# Each data point is an image of 424x424 pixels, \n",
    "# where each pixel is a set of 3 numbers giving the RGB intensities\n",
    "\n",
    "x_train = np.asarray(x_train, dtype=float)\n",
    "x_valid = np.asarray(x_valid, dtype=float)\n",
    "x_test = np.asarray(x_test, dtype=float)\n",
    "\n",
    "print('The number of values characterizing each image is:')\n",
    "print(424*424*3)\n",
    "print('The shape of each data point is:')\n",
    "print(x_train[0].shape)\n",
    "\n",
    "print('The shapes of the training points and of the labels are:')\n",
    "print(x_train.shape, y_train.shape)"
   ]
  },
  {
   "cell_type": "code",
   "execution_count": 4,
   "metadata": {},
   "outputs": [],
   "source": [
    "# Comments:\n",
    "# 1. I can use COLAB, a google notebook that connects to a GPU in the worlds..."
   ]
  },
  {
   "cell_type": "code",
   "execution_count": 3,
   "metadata": {},
   "outputs": [
    {
     "name": "stdout",
     "output_type": "stream",
     "text": [
      "2.0.0\n"
     ]
    }
   ],
   "source": [
    "import tensorflow as tf\n",
    "print(tf.__version__) "
   ]
  },
  {
   "cell_type": "code",
   "execution_count": 4,
   "metadata": {},
   "outputs": [],
   "source": [
    "# I want to construct a CNN because the images have a lot of pixels\n",
    "# implying a lot of weigths to learn...\n",
    "# It is smart to use filters (convolutional layers) to detect patterns\n",
    "# e.g. spiral arms, bars, round shapes, edge-on disks, bulges, rings, exc..."
   ]
  },
  {
   "cell_type": "code",
   "execution_count": 25,
   "metadata": {},
   "outputs": [],
   "source": [
    "#Normalization generally leads to faster learning/convergence - a good practice!\n",
    "x_train = tf.keras.utils.normalize(x_train, axis=1)\n",
    "x_valid = tf.keras.utils.normalize(x_valid, axis=1)\n",
    "\n",
    "#We define a linear-style neural network, one of the simplest models\n",
    "model = tf.keras.models.Sequential()"
   ]
  },
  {
   "cell_type": "code",
   "execution_count": 26,
   "metadata": {},
   "outputs": [],
   "source": [
    "# 1st convolution layer with 10 large filters \n",
    "model.add(tf.keras.layers.Conv2D(10,(7,7),input_shape=(424, 424, 3)))\n",
    "\n",
    "# 1st pooling layer to coarse-grain by a factor of 4 (get the size of a galaxy)\n",
    "model.add(tf.keras.layers.MaxPooling2D(pool_size=(4,4)))\n",
    "\n",
    "# 2nd convolution layer with 10 smaller filters\n",
    "model.add(tf.keras.layers.Conv2D(10,(5,5),input_shape=(106, 106, 3)))\n",
    "\n",
    "# 2nd pooling layer to coarse-grain by a factor of 2\n",
    "model.add(tf.keras.layers.MaxPooling2D(pool_size=(2,2)))"
   ]
  },
  {
   "cell_type": "code",
   "execution_count": 27,
   "metadata": {},
   "outputs": [],
   "source": [
    "# Flatten the input in 1D array \n",
    "model.add(tf.keras.layers.Flatten())\n",
    "\n",
    "# Dense layer with 128 neurons\n",
    "model.add(tf.keras.layers.Dense(128,activation = tf.nn.relu))\n",
    "\n",
    "# For the final layer, the output layer, we transform the output from the previous layer\n",
    "# to a probability distribution across 37 classes\n",
    "last_layer = 37\n",
    "model.add(tf.keras.layers.Dense(last_layer,activation = tf.nn.softmax))\n",
    "\n",
    "# I choose the loss function and the optimizer ('adam' is a variant of SGD)\n",
    "model.compile(optimizer=\"adam\",loss=tf.keras.losses.Huber(),metrics=[tf.keras.metrics.RootMeanSquaredError(name='rmse')])"
   ]
  },
  {
   "cell_type": "code",
   "execution_count": 28,
   "metadata": {},
   "outputs": [
    {
     "name": "stdout",
     "output_type": "stream",
     "text": [
      "Train on 800 samples\n",
      "Epoch 1/4\n",
      "800/800 [==============================] - 19s 24ms/sample - loss: 0.0265 - rmse: 0.2302\n",
      "Epoch 2/4\n",
      "800/800 [==============================] - 21s 27ms/sample - loss: 0.0247 - rmse: 0.2221\n",
      "Epoch 3/4\n",
      "800/800 [==============================] - 22s 27ms/sample - loss: 0.0242 - rmse: 0.2202\n",
      "Epoch 4/4\n",
      "800/800 [==============================] - 21s 27ms/sample - loss: 0.0240 - rmse: 0.2190\n"
     ]
    },
    {
     "data": {
      "text/plain": [
       "<tensorflow.python.keras.callbacks.History at 0x7f7f6680e590>"
      ]
     },
     "execution_count": 28,
     "metadata": {},
     "output_type": "execute_result"
    }
   ],
   "source": [
    "model.fit(x_train, y_train,epochs = 4)"
   ]
  },
  {
   "cell_type": "code",
   "execution_count": 9,
   "metadata": {},
   "outputs": [],
   "source": [
    "# CNN took 30s per epoch with 800 training points \n",
    "\n",
    "# rmse = 0.22 with Huber loss (a good value of rmse is 0.1)\n",
    "# rmse = 0.23 with Binary-Crossentropy loss (a good value of rmse is 0.1)\n",
    "\n",
    "# Improvable with modifications below and more epochs and training points\n",
    "\n",
    "# Improvements that I could do:\n",
    "# 1) crop the images with pytorch \n",
    "        # funzione gia' fatta in transforms center_crop\n",
    "# 2) add more layers, windows max 7x7"
   ]
  },
  {
   "cell_type": "code",
   "execution_count": 29,
   "metadata": {},
   "outputs": [
    {
     "name": "stdout",
     "output_type": "stream",
     "text": [
      "100/1 [========================================================================================================================================================================================================================================================================================================================================================================================================================================================================================================================================================================================================================================================================================================================================================================================================================================================================================================================================================================================================================================================================================================================================================================================================================================================================================================================================================================================================================================================================================================================================================================================================================================================================================================================================================================================================================================================================================================================================================================================================================================================================================================================================================================================================================================================================================================================================================================================================================================================================================================================================================================================================================================================================================================================================================================================================================================================================================================================================================================================================================================================================================================================] - 1s 14ms/sample - loss: 0.0208 - rmse: 0.2132\n",
      "0.02272238701581955 0.2131778\n"
     ]
    }
   ],
   "source": [
    "#Let's evaluate the model\n",
    "#.evaluate() returns the loss and metrics (accuracy for us) for the test sample\n",
    "val_loss, val_rmse = model.evaluate(x_valid, y_valid)\n",
    "print(val_loss, val_rmse)"
   ]
  },
  {
   "cell_type": "code",
   "execution_count": 23,
   "metadata": {},
   "outputs": [],
   "source": [
    "# rmse = 0.21 ...large margin of improvement\n",
    "# the first 50 scores in the ranking are 0.07-0.1"
   ]
  },
  {
   "cell_type": "code",
   "execution_count": 30,
   "metadata": {},
   "outputs": [
    {
     "name": "stdout",
     "output_type": "stream",
     "text": [
      "WARNING:tensorflow:From /home/masi1109/anaconda3/lib/python3.7/site-packages/tensorflow_core/python/ops/resource_variable_ops.py:1781: calling BaseResourceVariable.__init__ (from tensorflow.python.ops.resource_variable_ops) with constraint is deprecated and will be removed in a future version.\n",
      "Instructions for updating:\n",
      "If using Keras pass *_constraint arguments to layers.\n",
      "INFO:tensorflow:Assets written to: CNN_Galaxies_regression/assets\n"
     ]
    }
   ],
   "source": [
    "#Saves the model in a folder in the working directory\n",
    "model.save(\"CNN_Galaxies_regression\")"
   ]
  },
  {
   "cell_type": "code",
   "execution_count": 36,
   "metadata": {},
   "outputs": [
    {
     "name": "stdout",
     "output_type": "stream",
     "text": [
      "Predicted labels\n",
      "[9.18099582e-02 1.46412507e-01 4.49519000e-08 5.44670456e-07\n",
      " 1.92524984e-01 7.10304491e-08 3.02002262e-02 5.11571045e-07\n",
      " 3.80428077e-07 5.50719687e-06 3.37866872e-08 5.54081510e-07\n",
      " 6.31510659e-07 1.85004274e-06 5.39012313e-01 1.21218272e-05\n",
      " 4.71031456e-07 4.01077045e-07 6.62159616e-09 4.80265135e-06\n",
      " 1.00242396e-07 2.88161289e-07 2.42354645e-06 1.15826992e-07\n",
      " 4.62819791e-08 3.79312667e-07 6.97294865e-07 2.43504132e-07\n",
      " 4.38709549e-06 2.43409630e-07 4.33074973e-07 4.44258248e-08\n",
      " 4.91972116e-07 4.86171814e-07 1.38697453e-06 9.35263600e-09\n",
      " 2.34245107e-07]\n",
      "Human labels\n",
      "[0.452045   0.522394   0.025561   0.07774947 0.44464453 0.20808164\n",
      " 0.2365629  0.         0.44464453 0.         0.27770852 0.16693601\n",
      " 0.         0.069786   0.930214   0.06767566 0.38436934 0.\n",
      " 0.         0.         0.034893   0.034893   0.         0.\n",
      " 0.         0.07774947 0.         0.         0.         0.\n",
      " 0.         0.         0.         0.         0.         0.\n",
      " 0.        ]\n"
     ]
    },
    {
     "data": {
      "image/png": "[encoded data removed]",
      "text/plain": [
       "<Figure size 432x288 with 1 Axes>"
      ]
     },
     "metadata": {
      "needs_background": "light"
     },
     "output_type": "display_data"
    }
   ],
   "source": [
    "#Load the model\n",
    "my_model = tf.keras.models.load_model(\"CNN_Galaxies_regression\")\n",
    "\n",
    "#Test the model\n",
    "predictions = my_model.predict(x_valid)\n",
    "\n",
    "#For a given index...\n",
    "index = 3\n",
    "\n",
    "#What do we predict?\n",
    "print('Predicted labels')\n",
    "print(predictions[index])\n",
    "\n",
    "#What is the true value?\n",
    "print('Human labels')\n",
    "print(y_valid[index])\n",
    "\n",
    "# I need to plot for a visual feeling\n",
    "import matplotlib.pyplot as plt\n",
    "\n",
    "plt.plot(np.arange(37), y_valid[index], c='b')\n",
    "plt.plot(np.arange(37), predictions[index], c='g')\n",
    "plt.yticks(np.arange(0,1,0.1))\n",
    "plt.ylabel('probability')\n",
    "plt.xlabel('classes')\n",
    "plt.show()"
   ]
  },
  {
   "cell_type": "code",
   "execution_count": null,
   "metadata": {},
   "outputs": [],
   "source": []
  }
 ],
 "metadata": {
  "kernelspec": {
   "display_name": "Python 3",
   "language": "python",
   "name": "python3"
  },
  "language_info": {
   "codemirror_mode": {
    "name": "ipython",
    "version": 3
   },
   "file_extension": ".py",
   "mimetype": "text/x-python",
   "name": "python",
   "nbconvert_exporter": "python",
   "pygments_lexer": "ipython3",
   "version": "3.6.13"
  },
  "toc": {
   "base_numbering": 1,
   "nav_menu": {},
   "number_sections": true,
   "sideBar": true,
   "skip_h1_title": false,
   "title_cell": "Table of Contents",
   "title_sidebar": "Contents",
   "toc_cell": false,
   "toc_position": {},
   "toc_section_display": true,
   "toc_window_display": false
  }
 },
 "nbformat": 4,
 "nbformat_minor": 2
}
